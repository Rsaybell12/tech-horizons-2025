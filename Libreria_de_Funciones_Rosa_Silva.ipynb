{
  "cells": [
    {
      "cell_type": "markdown",
      "metadata": {
        "id": "JBGX2i4WhFFw"
      },
      "source": [
        "# Tarea del Martes, *Rosa Silva*"
      ]
    },
    {
      "cell_type": "markdown",
      "metadata": {
        "id": "FHE-mCzBhTb7"
      },
      "source": [
        "*Tarjeta Personal*"
      ]
    },
    {
      "cell_type": "code",
      "execution_count": null,
      "metadata": {
        "colab": {
          "base_uri": "https://localhost:8080/"
        },
        "id": "TpbE048ZhOOr",
        "outputId": "f1bdf066-635c-40a2-89d0-b730a426e5e1"
      },
      "outputs": [
        {
          "name": "stdout",
          "output_type": "stream",
          "text": [
            "Tarjeta Personal\n",
            "-----------------\n",
            "Nombre:    Rosa isabella Silva Sánchez\n",
            "Edad:    16\n",
            "Genero:    Femenino\n",
            "Lugar De Residencia:         Panamá\n",
            "Lugar de Estudio:      C.A.M\n",
            "Altura:    1.61\n",
            "-----------------\n",
            "\n",
            "Familia:\n",
            "-----------------\n",
            "Padre:    Leonardo\n",
            "Madre:    Cynthia\n",
            "Número de Hermanos:    2\n",
            "Nombres de Hermanos:   Samuel, Jose\n",
            "\n",
            "Operaciones Matemáticas:\n",
            "Total de días vividos:  5840 Días\n",
            "Años para los 30:  14 Años\n"
          ]
        }
      ],
      "source": [
        "# Variables descriptivas para la tarjeta personal\n",
        "Nombre_Completo = \"Rosa isabella Silva Sánchez\"\n",
        "Edad = 16\n",
        "Genero = \"Femenino\"\n",
        "Lugar_de_Residencia = \"Panamá\"\n",
        "Lugar_de_Estudio = \"C.A.M\"\n",
        "Altura = 1.61\n",
        "\n",
        "# Calcular el año de nacimiento\n",
        "Año_Actual = 2025\n",
        "Año_de_Nacimiento = Año_Actual - Edad\n",
        "\n",
        "# Datos de la familia\n",
        "nombre_padre = \"Leonardo\"\n",
        "nombre_madre = \"Cynthia\"\n",
        "numero_hermanos = 2\n",
        "nombres_hermanos = [\"Samuel\", \"Jose\"] # se utiliza corchetes por que estamos haciendo una lista de nombres\n",
        "\n",
        "# Cálculo simple\n",
        "años_para_los_30 = 30 - Edad\n",
        "\n",
        "# operaciones matemáticas\n",
        "número_de_dias_en_un_año = 365\n",
        "Días_vividos = Edad * número_de_dias_en_un_año\n",
        "\n",
        "# Imprimiendo la tarjeta personal\n",
        "print(\"Tarjeta Personal\")\n",
        "print(\"-----------------\")\n",
        "print(\"Nombre:   \", Nombre_Completo)\n",
        "print(\"Edad:   \", Edad)\n",
        "print(\"Genero:   \", Genero)\n",
        "print(\"Lugar De Residencia:        \", Lugar_de_Residencia)\n",
        "print(\"Lugar de Estudio:     \", Lugar_de_Estudio)\n",
        "print(\"Altura:   \", Altura)\n",
        "\n",
        "# Información Familia\n",
        "print(\"-----------------\")\n",
        "print(\"\\nFamilia:\")\n",
        "print(\"-----------------\")\n",
        "print(\"Padre:   \", nombre_padre)\n",
        "print(\"Madre:   \", nombre_madre)\n",
        "print(\"Número de Hermanos:   \", numero_hermanos)\n",
        "print(\"Nombres de Hermanos:  \", \", \".join(nombres_hermanos))\n",
        "\n",
        "#operaciones matemáticas\n",
        "print(\"\\nOperaciones Matemáticas:\") #(\\n es como un ENTER en el texto hace que el texto que sigue se imprima en una nueva línea)\n",
        "print(\"Total de días vividos: \", Días_vividos, \"Días\")\n",
        "print(\"Años para los 30: \", años_para_los_30, \"Años\")"
      ]
    },
    {
      "cell_type": "markdown",
      "metadata": {
        "id": "ovrtRM8Y6tzn"
      },
      "source": [
        "# Sección DE CLASE DE MARTES\n",
        "\n"
      ]
    },
    {
      "cell_type": "code",
      "execution_count": null,
      "metadata": {
        "colab": {
          "base_uri": "https://localhost:8080/"
        },
        "id": "826tV5UX6-AK",
        "outputId": "73a09083-ffdc-406c-cb5b-490923fcdaa4"
      },
      "outputs": [
        {
          "name": "stdout",
          "output_type": "stream",
          "text": [
            "¿Te gusta el chocolate? (sí/no): no\n",
            "¡Qué pena!\n"
          ]
        }
      ],
      "source": [
        "pregunta = input(\"¿Te gusta el chocolate? (sí/no): \").strip().lower()\n",
        "\n",
        "if pregunta == \"si\":\n",
        "    print(\"¡Genial!\")\n",
        "    favorito = input(\"¿Cual es tu chocolate favorito?: \")\n",
        "    print(\"¡A mí también me gusta \" + favorito + \"!\")\n",
        "else:\n",
        "    print(\"¡Qué pena!\")"
      ]
    },
    {
      "cell_type": "code",
      "execution_count": null,
      "metadata": {
        "colab": {
          "base_uri": "https://localhost:8080/"
        },
        "id": "BpNwPc75B8LB",
        "outputId": "78ff3522-7196-4529-9265-6fa05b4d8ff5"
      },
      "outputs": [
        {
          "name": "stdout",
          "output_type": "stream",
          "text": [
            "Tu edad:  12\n",
            "Tu altura en metros: 1.2\n",
            "Tu nombre: rosa\n",
            "Hola rosa, tienes 12 años y mides 1.2m\n"
          ]
        }
      ],
      "source": [
        "# Edad (número entero)\n",
        "edad = int(input(\"Tu edad:  \"))\n",
        "\n",
        "# Altura (numero decimal)\n",
        "altura = float(input(\"Tu altura en metros: \"))\n",
        "\n",
        "#nombre (Texto, no necesita conversión)\n",
        "nombre = input(\"Tu nombre: \")\n",
        "print(f\"Hola {nombre}, tienes {edad} años y mides {altura}m\")"
      ]
    },
    {
      "cell_type": "code",
      "execution_count": null,
      "metadata": {
        "colab": {
          "base_uri": "https://localhost:8080/"
        },
        "id": "121JyJ_qIexL",
        "outputId": "89c72db5-e229-4d06-adcf-7173190d4b34"
      },
      "outputs": [
        {
          "name": "stdout",
          "output_type": "stream",
          "text": [
            "=== GENERADOR DE PERFIL ===\n",
            "¿Cómo te llamas? rosa\n",
            "¿Cuántos años tienes? 12\n",
            "¿En qué ciudad vives? panama\n",
            "¿a qué te dedicas? nada\n",
            "¿Qué te gusta hacer en tu tiempo libre? leer\n",
            "¿Cuál es tu película favorita? monja\n",
            "\n",
            "=== TU PERFIL ===\n",
            "Hola, me llamo rosa y tengo 12 años.\n",
            "Vivo en la ciudad de panama.\n",
            "Me dedico a nada.\n",
            "En mis ratos libres me gusta leer.\n",
            "Una de mis películas favoritas es 'monja'.\n"
          ]
        }
      ],
      "source": [
        "print(\"=== GENERADOR DE PERFIL ===\")\n",
        "nombre = input(\"¿Cómo te llamas? \")\n",
        "edad = int(input(\"¿Cuántos años tienes? \"))\n",
        "ciudad = input(\"¿En qué ciudad vives? \")\n",
        "profesion = input(\"¿a qué te dedicas? \")\n",
        "hobbie = input(\"¿Qué te gusta hacer en tu tiempo libre? \")\n",
        "pelicula = input(\"¿Cuál es tu película favorita? \")\n",
        "\n",
        "print(\"\\n=== TU PERFIL ===\")\n",
        "print(f\"Hola, me llamo {nombre} y tengo {edad} años.\")\n",
        "print(f\"Vivo en la ciudad de {ciudad}.\")\n",
        "print(f\"Me dedico a {profesion}.\")\n",
        "print(f\"En mis ratos libres me gusta {hobbie}.\")\n",
        "print(f\"Una de mis películas favoritas es '{pelicula}'.\")\n",
        "\n"
      ]
    },
    {
      "cell_type": "markdown",
      "metadata": {
        "id": "i9U6Sk1FPthL"
      },
      "source": [
        "#Tarea del Jueves"
      ]
    },
    {
      "cell_type": "markdown",
      "metadata": {
        "id": "Wr-40dYKSldL"
      },
      "source": [
        "**Crear un programa interactivo**"
      ]
    },
    {
      "cell_type": "code",
      "execution_count": null,
      "metadata": {
        "colab": {
          "base_uri": "https://localhost:8080/"
        },
        "id": "6WNZrLM5Z8Fi",
        "outputId": "480da980-77d3-4315-94f5-d520e925355d"
      },
      "outputs": [
        {
          "name": "stdout",
          "output_type": "stream",
          "text": [
            " Bienvenido a Detector de tu música \n",
            "¡Descubramos qué tan amante de la música eres!\n",
            "\n",
            "¿Cómo te llamas? rosa\n",
            "¿Cuál es tu género musical favorito? pop\n",
            "¿Qué cantante o banda te gusta más en el género pop? badbuny\n",
            "¿Cuántas canciones de badbuny crees que te sabes de memoria? 10\n",
            "\n",
            "Analizando tu nivel...\n",
            "\n",
            " rosa, amas la música pop y tu artista favorito es badbuny.\n",
            "Te sabes 10 canciones, ¡apenas empiezas, pronto serás una leyenda musical!\n",
            "\n",
            "¿Quieres hablar de otro género musical? (sí/no): no\n",
            "Gracias por usar tu detector de música. ¡Sigue escuchando buena música! \n"
          ]
        }
      ],
      "source": [
        "print(\" Bienvenido a Detector de tu música \")\n",
        "print(\"¡Descubramos qué tan amante de la música eres!\\n\")\n",
        "continuar = \"sí\"\n",
        "\n",
        "while continuar in [\"si\", \"sí\"]:\n",
        "    nombre = input(\"¿Cómo te llamas? \")\n",
        "    genero = input(\"¿Cuál es tu género musical favorito? \")\n",
        "    artista = input(f\"¿Qué cantante o banda te gusta más en el género {genero}? \")\n",
        "\n",
        "    while True:\n",
        "        try:\n",
        "            canciones = int(input(f\"¿Cuántas canciones de {artista} crees que te sabes de memoria? \"))\n",
        "            break\n",
        "        except ValueError:\n",
        "            print(\"Escribe un número válido, por favor :c\")\n",
        "\n",
        "    print(\"\\nAnalizando tu nivel...\\n\")\n",
        "\n",
        "    if canciones > 50:\n",
        "        nivel = \"¡eres una leyenda musical!\"\n",
        "    elif canciones > 10:\n",
        "        nivel = \"eres un fan del ritmo\"\n",
        "    else:\n",
        "        nivel = \"apenas empiezas, pronto serás una leyenda musical\"\n",
        "\n",
        "    print(f\" {nombre}, amas la música {genero} y tu artista favorito es {artista}.\")\n",
        "    print(f\"Te sabes {canciones} canciones, ¡{nivel}!\\n\")\n",
        "    continuar = input(\"¿Quieres hablar de otro género musical? (sí/no): \").strip().lower()\n",
        "\n",
        "print(\"Gracias por usar tu detector de música. ¡Sigue escuchando buena música! \")\n"
      ]
    },
    {
      "cell_type": "markdown",
      "metadata": {
        "id": "TcJf3HxiRiQi"
      },
      "source": [
        "#Clase del jueves"
      ]
    },
    {
      "cell_type": "code",
      "execution_count": null,
      "metadata": {
        "colab": {
          "base_uri": "https://localhost:8080/"
        },
        "id": "rOVLFkJ_RmTl",
        "outputId": "b53e621f-bd16-49c6-c3d0-a16b07413feb"
      },
      "outputs": [
        {
          "name": "stdout",
          "output_type": "stream",
          "text": [
            "ingresa tu edad: 15\n",
            "eres menor\n",
            "aun no puedes conducir\n"
          ]
        }
      ],
      "source": [
        "edad = int(input(\"ingresa tu edad: \"))\n",
        "\n",
        "if edad < 18:\n",
        "    print(\"eres menor\")\n",
        "    print(\"aun no puedes conducir\")\n",
        "\n",
        "else:\n",
        "    print(\"eres mayor\")\n",
        "    print(\"puedes conducir\")\n"
      ]
    },
    {
      "cell_type": "code",
      "execution_count": null,
      "metadata": {
        "colab": {
          "base_uri": "https://localhost:8080/"
        },
        "id": "dW1QPBC7X8LB",
        "outputId": "3bd657c5-3534-440e-8050-d6dabdc3211b"
      },
      "outputs": [
        {
          "name": "stdout",
          "output_type": "stream",
          "text": [
            "ingresa tu edad: 12\n",
            "eres menor\n",
            "Te faltan 6 años\n"
          ]
        }
      ],
      "source": [
        "edad = int(input(\"ingresa tu edad: \"))\n",
        "\n",
        "if edad >= 18:\n",
        "    print(\"eres mayor\")\n",
        "    print(\"puedes conducir\")\n",
        "\n",
        "else:\n",
        "    print(\"eres menor\")\n",
        "    print(\"Te faltan\", 18 - edad, \"años\")"
      ]
    },
    {
      "cell_type": "markdown",
      "metadata": {
        "id": "dqccd0Gwrnu-"
      },
      "source": [
        "*Clase del lunes* **Recomendación de actividades según el clima**"
      ]
    },
    {
      "cell_type": "code",
      "execution_count": null,
      "metadata": {
        "colab": {
          "base_uri": "https://localhost:8080/"
        },
        "id": "ekuehknB7Z7K",
        "outputId": "7a906460-132b-43f4-bba6-91cb868f3d76"
      },
      "outputs": [
        {
          "name": "stdout",
          "output_type": "stream",
          "text": [
            "cual es el clima actual?(Soleado/lluvioso/cálido/nublado):  soleado\n",
            "te gusta la temperatura actual?(si/no): no\n",
            "Puedes ejecitarte en casa\n"
          ]
        }
      ],
      "source": [
        "clima = input(\"cual es el clima actual?(Soleado/lluvioso/cálido/nublado):  \").lower()\n",
        "temperatura = input(\"te gusta la temperatura actual?(si/no): \").lower()\n",
        "\n",
        "# respuestas para el usuario según su respuesta\n",
        "if (clima.lower() == \"soleado\" and temperatura == \"si\") or (clima == \"nublado\" and temperatura == \"si\"):\n",
        "    print(\"Puedes salir a caminar al aire libre\")\n",
        "if (clima.lower() == \"lluvioso\" and temperatura == \"si\") or (clima == \"cálido\" and temperatura == \"si\"):\n",
        "    print(\"Puedes leer, escribir cerca de una ventana\")\n",
        "elif (clima.lower() == \"soleado\" and temperatura == \"no\") or (clima == \"nublado\" and temperatura == \"no\"):\n",
        "    print(\"Puedes ejecitarte en casa\")\n",
        "elif (clima == \"lluvioso\" and temperatura == \"no\") or (clima == \"cálido\" and temperatura == \"no\"):\n",
        "    print(\"Puedes escuchar tu musica favorita y disfrutar de una pelicula\")\n",
        "else:\n",
        "    print(\"no entiendo, puedes ser mas claro\")\n"
      ]
    },
    {
      "cell_type": "markdown",
      "metadata": {
        "id": "b0OdHrLF0KQb"
      },
      "source": [
        "#Clase del lunes"
      ]
    },
    {
      "cell_type": "code",
      "execution_count": null,
      "metadata": {
        "colab": {
          "base_uri": "https://localhost:8080/"
        },
        "id": "Kfww8_2q0wr7",
        "outputId": "c0ef5a42-6ced-4478-b820-3d5fbd4dae2b"
      },
      "outputs": [
        {
          "name": "stdout",
          "output_type": "stream",
          "text": [
            "Hola mundo\n",
            "Hola mundo\n",
            "Hola mundo\n",
            "Hola mundo\n",
            "Hola mundo\n"
          ]
        }
      ],
      "source": [
        "for i in range (5):\n",
        "  print(\"Hola mundo\")"
      ]
    },
    {
      "cell_type": "code",
      "execution_count": null,
      "metadata": {
        "colab": {
          "base_uri": "https://localhost:8080/"
        },
        "id": "GivGzjmF4ePi",
        "outputId": "4ae22d16-1310-45ad-bd60-071a42c6eb00"
      },
      "outputs": [
        {
          "name": "stdout",
          "output_type": "stream",
          "text": [
            "10\n",
            "9\n",
            "8\n",
            "7\n",
            "6\n",
            "5\n",
            "4\n",
            "3\n",
            "2\n",
            "1\n"
          ]
        }
      ],
      "source": [
        "for i in range (10, 0,-1 ):\n",
        "   print(i)"
      ]
    },
    {
      "cell_type": "code",
      "execution_count": null,
      "metadata": {
        "colab": {
          "base_uri": "https://localhost:8080/"
        },
        "id": "XlLYYPLlA7zb",
        "outputId": "50dc441d-88f9-4ece-97ac-1ed460354396"
      },
      "outputs": [
        {
          "name": "stdout",
          "output_type": "stream",
          "text": [
            "ingresa nota:50\n",
            "ingresa nota:60\n",
            "ingresa nota:70\n",
            "ingresa nota:80\n",
            "ingresa nota:90\n"
          ]
        },
        {
          "data": {
            "text/plain": [
              "70.0"
            ]
          },
          "execution_count": 13,
          "metadata": {},
          "output_type": "execute_result"
        }
      ],
      "source": [
        "suma = 0\n",
        "for i in range (5):\n",
        "  suma = suma + int(input(\"ingresa nota:\"))\n",
        "(suma/5)"
      ]
    },
    {
      "cell_type": "markdown",
      "metadata": {
        "id": "Ay2dq3KAQ_A8"
      },
      "source": []
    },
    {
      "cell_type": "markdown",
      "metadata": {
        "id": "nDMmYerupF7h"
      },
      "source": [
        "**Tarea para el martes** 21/10/25"
      ]
    },
    {
      "cell_type": "markdown",
      "metadata": {
        "id": "fCQ2z_K4pLVT"
      },
      "source": [
        "#Generador_de_patrones_Rosa_Silva"
      ]
    },
    {
      "cell_type": "code",
      "execution_count": null,
      "metadata": {
        "colab": {
          "base_uri": "https://localhost:8080/"
        },
        "id": "Hr-E4n9EuC5e",
        "outputId": "9e7a36bc-1019-435b-a0e2-b44ce2ed3de9"
      },
      "outputs": [
        {
          "name": "stdout",
          "output_type": "stream",
          "text": [
            "pon un numero: 4\n",
            "Tabla del numero: 4\n",
            "4 X 1= 4\n",
            "4 X 2= 8\n",
            "4 X 3= 12\n",
            "4 X 4= 16\n",
            "4 X 5= 20\n",
            "4 X 6= 24\n",
            "4 X 7= 28\n",
            "4 X 8= 32\n",
            "4 X 9= 36\n",
            "4 X 10= 40\n"
          ]
        }
      ],
      "source": [
        "#Tabla de multiplicar de cualquier numero\n",
        "\n",
        "numero = int(input(\"pon un numero: \"))\n",
        "print(f\"Tabla del numero: {numero}\")\n",
        "\n",
        "for i in range (1,11):\n",
        "  resultado = numero * i\n",
        "  print(f\"{numero} X {i}= {resultado}\")\n",
        "\n",
        "\n",
        "\n",
        "\n",
        "\n"
      ]
    },
    {
      "cell_type": "code",
      "execution_count": null,
      "metadata": {
        "colab": {
          "base_uri": "https://localhost:8080/"
        },
        "id": "GxVoaKq9UjCC",
        "outputId": "7061cbdc-34c3-4348-f4d7-490c7fc69dfc"
      },
      "outputs": [
        {
          "name": "stdout",
          "output_type": "stream",
          "text": [
            "2 es un numero par\n",
            "4 es un numero par\n",
            "6 es un numero par\n",
            "8 es un numero par\n",
            "10 es un numero par\n",
            "12 es un numero par\n",
            "14 es un numero par\n",
            "16 es un numero par\n",
            "18 es un numero par\n",
            "20 es un numero par\n",
            "22 es un numero par\n",
            "24 es un numero par\n",
            "26 es un numero par\n",
            "28 es un numero par\n",
            "30 es un numero par\n",
            "32 es un numero par\n",
            "34 es un numero par\n",
            "36 es un numero par\n",
            "38 es un numero par\n",
            "40 es un numero par\n",
            "42 es un numero par\n",
            "44 es un numero par\n",
            "46 es un numero par\n",
            "48 es un numero par\n",
            "50 es un numero par\n"
          ]
        }
      ],
      "source": [
        "  #Contador de numeros pares\n",
        "  for i in range (1,51):\n",
        "      if i % 2 == 0:\n",
        "        print(f\"{i} es un numero par\")\n"
      ]
    },
    {
      "cell_type": "code",
      "execution_count": null,
      "metadata": {
        "colab": {
          "base_uri": "https://localhost:8080/"
        },
        "id": "JiBjz-VqVT4q",
        "outputId": "9f8b9f25-51ee-4f6e-d15a-0032fb34aa3b"
      },
      "outputs": [
        {
          "name": "stdout",
          "output_type": "stream",
          "text": [
            "Ingresa la medida de la pirámide: 8\n",
            "       *\n",
            "      ***\n",
            "     *****\n",
            "    *******\n",
            "   *********\n",
            "  ***********\n",
            " *************\n",
            "***************\n"
          ]
        }
      ],
      "source": [
        "#Piramide de asteriscos (*)\n",
        "medida = int(input(\"pon la medida de la torre: \"))\n",
        "\n",
        "for i in range(1, medida + 1):\n",
        "    espacios = ' ' * (medida - i)\n",
        "    asteriscos = '*' * (2 * i - 1)\n",
        "    print(espacios + asteriscos)\n"
      ]
    },
    {
      "cell_type": "code",
      "execution_count": null,
      "metadata": {
        "colab": {
          "base_uri": "https://localhost:8080/"
        },
        "id": "zvWCtV82effS",
        "outputId": "1097bf60-dda1-4a9b-dd2a-87ffdd0a7bac"
      },
      "outputs": [
        {
          "name": "stdout",
          "output_type": "stream",
          "text": [
            "['manzana', 'aguacate']\n"
          ]
        }
      ],
      "source": [
        "frutas = [\"fresa\", \"manzana\", \"fresa\", \"aguacate\"]\n",
        "while \"fresa\" in frutas:\n",
        "    frutas.remove(\"fresa\")\n",
        "\n",
        "print(frutas)"
      ]
    },
    {
      "cell_type": "code",
      "execution_count": null,
      "metadata": {
        "colab": {
          "base_uri": "https://localhost:8080/"
        },
        "id": "lNd8aXcFGIvP",
        "outputId": "5d4445b7-ec13-45bb-a4e8-f19045bfa7be"
      },
      "outputs": [
        {
          "name": "stdout",
          "output_type": "stream",
          "text": [
            "pon 5 notas:\n",
            "calificacion: 40\n",
            "calificacion: 90\n",
            "calificacion: 60\n",
            "calificacion: 70\n",
            "calificacion: 80\n",
            "las notas son: [40.0, 90.0, 60.0, 70.0, 80.0]\n",
            "el promedio es: 68.0\n",
            "la mas alta: 90.0\n",
            "la mas baja: 40.0\n"
          ]
        }
      ],
      "source": [
        "notas = [] #la lista vacia para guardar lo que pone el ususario\n",
        "\n",
        "print(\"pon 5 notas:\")\n",
        "\n",
        "for i in range(5): # se empieza el bucle para pedir 5 notas\n",
        " calificacion = float(input(\"calificacion: \")) # aqui para pedir al usuario y que se convierta en decimal\n",
        " notas.append(calificacion) # para guardar la calificacion en la lista\n",
        "print(f\"las notas son: {notas}\") # se muestra las notas\n",
        "\n",
        "promedio = sum(notas) / len(notas) #la sum espara sumar todas las calificaciones y el len para contar las notas y la linea para dividirlos\n",
        "print(f\"el promedio es: {promedio}\")\n",
        "\n",
        "print(\"la mas alta:\", max(notas)) # para mostrar el promedio alto y bajo\n",
        "print(\"la mas baja:\", min(notas))\n"
      ]
    },
    {
      "cell_type": "markdown",
      "metadata": {
        "id": "sx65IT4C_JVz"
      },
      "source": [
        "**tarea para la clase del jueves** 23/10/25"
      ]
    },
    {
      "cell_type": "markdown",
      "metadata": {
        "id": "UhwtaWRE_Qyj"
      },
      "source": [
        "#Organizador_Personal_Rosa_Silva"
      ]
    },
    {
      "cell_type": "code",
      "execution_count": null,
      "metadata": {
        "colab": {
          "background_save": true,
          "base_uri": "https://localhost:8080/"
        },
        "id": "vlZoTRTC_hhD",
        "outputId": "abc90000-16f4-4518-e1af-36b74e877f0d"
      },
      "outputs": [
        {
          "name": "stdout",
          "output_type": "stream",
          "text": [
            "\n",
            "===================================\n",
            "**Organizador de Gastos personales**\n",
            "\n",
            "===================================\n",
            "1. ver gasto\n",
            "2. agregar gasto\n",
            "3. eliminar gasto\n",
            "4. salir\n",
            "\n",
            "===================================\n",
            "el gasto 600 se agrego correctamente \n",
            "\n",
            "===================================\n",
            "**Organizador de Gastos personales**\n",
            "\n",
            "===================================\n",
            "1. ver gasto\n",
            "2. agregar gasto\n",
            "3. eliminar gasto\n",
            "4. salir\n",
            "\n",
            "===================================\n",
            "el gasto 700 se agrego correctamente \n",
            "\n",
            "===================================\n",
            "**Organizador de Gastos personales**\n",
            "\n",
            "===================================\n",
            "1. ver gasto\n",
            "2. agregar gasto\n",
            "3. eliminar gasto\n",
            "4. salir\n",
            "\n",
            "===================================\n",
            "\n",
            "===Lista de gastos===\n",
            " 1. 600\n",
            " 2. 700\n",
            "\n",
            "===================================\n",
            "**Organizador de Gastos personales**\n",
            "\n",
            "===================================\n",
            "1. ver gasto\n",
            "2. agregar gasto\n",
            "3. eliminar gasto\n",
            "4. salir\n",
            "\n",
            "===================================\n",
            " 1. 600\n",
            " 2. 700\n",
            "se elimino el gasto\n",
            "\n",
            "===================================\n",
            "**Organizador de Gastos personales**\n",
            "\n",
            "===================================\n",
            "1. ver gasto\n",
            "2. agregar gasto\n",
            "3. eliminar gasto\n",
            "4. salir\n",
            "\n",
            "===================================\n",
            "\n",
            "===Lista de gastos===\n",
            " 1. 600\n",
            "\n",
            "===================================\n",
            "**Organizador de Gastos personales**\n",
            "\n",
            "===================================\n",
            "1. ver gasto\n",
            "2. agregar gasto\n",
            "3. eliminar gasto\n",
            "4. salir\n",
            "\n",
            "===================================\n",
            "\n",
            "===================================\n",
            "**Organizador de Gastos personales**\n",
            "\n",
            "===================================\n",
            "1. ver gasto\n",
            "2. agregar gasto\n",
            "3. eliminar gasto\n",
            "4. salir\n",
            "\n",
            "===================================\n",
            "\n",
            "===================================\n",
            "**Organizador de Gastos personales**\n",
            "\n",
            "===================================\n",
            "1. ver gasto\n",
            "2. agregar gasto\n",
            "3. eliminar gasto\n",
            "4. salir\n",
            "\n",
            "===================================\n",
            "gracias por usar el organizador de gastos\n"
          ]
        }
      ],
      "source": [
        "gastos = []\n",
        "\n",
        "def mostrar_menu():\n",
        "  print(\"\\n===================================\")\n",
        "  print(\"**Organizador de Gastos personales**\")\n",
        "  print(\"\\n===================================\")\n",
        "  print(\"1. ver gasto\")\n",
        "  print(\"2. agregar gasto\")\n",
        "  print(\"3. eliminar gasto\")\n",
        "  print(\"4. salir\")\n",
        "  print(\"\\n===================================\")\n",
        "\n",
        "while True:\n",
        "  mostrar_menu()\n",
        "  opcion = input(\"elije una opcion: \")\n",
        "\n",
        "  if opcion == \"1\":\n",
        "    if len(gastos) == 0:\n",
        "     print(\"\\nno hay gastos\")\n",
        "\n",
        "    else:\n",
        "       print(\"\\n===Lista de gastos===\")\n",
        "       for i, gasto in enumerate(gastos):\n",
        "           print(f\" {i+1}. {gasto}\")\n",
        "\n",
        "  elif opcion == \"2\":\n",
        "       nuevo = input(\"pon el nuevo gasto: \")\n",
        "       gastos.append(nuevo)\n",
        "       print(f\"el gasto {nuevo} se agrego correctamente \")\n",
        "\n",
        "  elif opcion == \"3\":\n",
        "    if len(gastos) == 0:\n",
        "      print(\"\\n no hay para eliminar\")\n",
        "\n",
        "    else:\n",
        "      for i, gasto in enumerate(gastos):\n",
        "           print(f\" {i+1}. {gasto}\")\n",
        "      num = int(input(\"cual? \")) -1\n",
        "      gastos.pop(num)\n",
        "      print(\"se elimino el gasto\")\n",
        "\n",
        "  elif opcion == \"4\":\n",
        "    print(\"gracias por usar el organizador de gastos\")\n",
        "    break\n"
      ]
    },
    {
      "cell_type": "code",
      "execution_count": null,
      "metadata": {
        "id": "nmhrqqWDE0eN",
        "colab": {
          "base_uri": "https://localhost:8080/"
        },
        "outputId": "55b9df12-0e6e-4107-b6d8-eaf863057072"
      },
      "outputs": [
        {
          "output_type": "stream",
          "name": "stdout",
          "text": [
            "la suma es: 8\n"
          ]
        }
      ],
      "source": [
        "def sumar(a, b):\n",
        "  resultado = a + b\n",
        "  return resultado\n",
        "\n",
        "#usando la función\n",
        "numero1 = 5\n",
        "numero2 = 3\n",
        "suma = sumar(numero1, numero2)\n",
        "print(\"la suma es:\", suma)"
      ]
    },
    {
      "cell_type": "code",
      "source": [
        "def sumar(a, b):\n",
        "    resultado = a + b\n",
        "    return resultado\n",
        "\n",
        "suma = sumar(4,5)\n",
        "print(f'la suma es: {suma}')"
      ],
      "metadata": {
        "colab": {
          "base_uri": "https://localhost:8080/"
        },
        "id": "E7Pk74YQPZGD",
        "outputId": "7cfefd01-c85e-4ca0-ceaa-86aa0ad0e67b"
      },
      "execution_count": null,
      "outputs": [
        {
          "output_type": "stream",
          "name": "stdout",
          "text": [
            "la suma es: 9\n"
          ]
        }
      ]
    },
    {
      "cell_type": "code",
      "source": [
        "def area_circulo(radio):\n",
        "    return 3.14159 * radio * radio\n",
        "\n",
        "def es_par(numero):\n",
        "    return numero % 2 == 0\n",
        "\n",
        "def saludo_personalizado(nombre, apellido):\n",
        "    print(f\"¡hola {nombre} {apellido}, bienvenido!\")\n",
        "\n",
        "radio = float(input(\"el radio del circulo: \"))\n",
        "print(\"el area del circulo es:\", area_circulo(radio))\n",
        "\n",
        "numero = int(input(\"Pon un numero para verificar si es par: \"))\n",
        "if es_par(numero):\n",
        "    print(\"El número es par\")\n",
        "else:\n",
        "    print(\"El número es impar\")\n",
        "\n",
        "nombre = input(\"tu nombre: \")\n",
        "apellido = input(\"tu apellido: \")\n",
        "saludo_personalizado(nombre, apellido)"
      ],
      "metadata": {
        "colab": {
          "base_uri": "https://localhost:8080/"
        },
        "id": "vyCwQcvZXZJn",
        "outputId": "bc763f76-50c9-4391-b053-8c522897d0b7"
      },
      "execution_count": null,
      "outputs": [
        {
          "output_type": "stream",
          "name": "stdout",
          "text": [
            "el radio del circulo: 5\n",
            "el area del circulo es: 78.53975\n",
            "Pon un numero para verificar si es par: 7\n",
            "El número es impar\n",
            "tu nombre: rosa\n",
            "tu apellido: silva\n",
            "¡hola rosa silva, bienvenido!\n"
          ]
        }
      ]
    },
    {
      "cell_type": "code",
      "source": [
        "def calcular_promedio(lista):\n",
        "    if not lista:\n",
        "        return 0\n",
        "    return sum(lista) / len(lista)\n",
        "\n",
        "def encontrar_extremos(lista):\n",
        "    if not lista:\n",
        "        return None, None\n",
        "    return min(lista), max(lista)\n",
        "\n",
        "def mostrar_estadisticas(datos, nombre=\"datos\"):\n",
        "    print(f\"\\n=== ESTADÍSTICAS DE {nombre.upper()} ===\")\n",
        "    print(f\"Cantidad de elementos: {len(datos)}\")\n",
        "    print(f\"Promedio: {calcular_promedio(datos):.2f}\")\n",
        "\n",
        "    minimo, maximo = encontrar_extremos(datos)\n",
        "    print(f\"Valor mínimo: {minimo}\")\n",
        "    print(f\"Valor máximo: {maximo}\")\n",
        "    print(f\"Rango: {maximo - minimo}\")\n",
        "\n",
        "# Programa principal\n",
        "calificaciones = []\n",
        "\n",
        "while True:\n",
        "    print(\"\\n1. Agregar calificación\")\n",
        "    print(\"2. Ver estadísticas\")\n",
        "    print('3. Ver calificaciones')\n",
        "    print(\"4. Salir\")\n",
        "    opcion = input(\"Elige opción: \")\n",
        "\n",
        "    if opcion == \"1\":\n",
        "          nueva = int(input(\"pon la calificacion: \"))\n",
        "          calificaciones.append(nueva)\n",
        "          print(f\"la calificacion {nueva} se agrego correctamente \")\n",
        "\n",
        "    elif opcion == \"2\":\n",
        "            mostrar_estadisticas(calificaciones, \"calificaciones\")\n",
        "\n",
        "    elif opcion=='3':\n",
        "\n",
        "        if calificaciones==[]:\n",
        "          print('No hay calificaciones para mostrar')\n",
        "        else:\n",
        "          print(calificaciones)\n",
        "\n",
        "    elif opcion == \"4\":\n",
        "         print(\"gracias por usar el programa\")\n",
        "         break\n",
        "\n",
        "    else:\n",
        "     print(\"opcion no valida\")\n",
        "\n",
        "\n"
      ],
      "metadata": {
        "colab": {
          "base_uri": "https://localhost:8080/"
        },
        "id": "tVbk_3CHXhQH",
        "outputId": "b9f299db-2b5c-4542-e12c-c139465d3ff2"
      },
      "execution_count": null,
      "outputs": [
        {
          "output_type": "stream",
          "name": "stdout",
          "text": [
            "\n",
            "1. Agregar calificación\n",
            "2. Ver estadísticas\n",
            "3. Ver calificaciones\n",
            "4. Salir\n",
            "Elige opción: 1\n",
            "pon la calificacion: 56\n",
            "la calificacion 56 se agrego correctamente \n",
            "\n",
            "1. Agregar calificación\n",
            "2. Ver estadísticas\n",
            "3. Ver calificaciones\n",
            "4. Salir\n",
            "Elige opción: 3\n",
            "[56]\n",
            "\n",
            "1. Agregar calificación\n",
            "2. Ver estadísticas\n",
            "3. Ver calificaciones\n",
            "4. Salir\n",
            "Elige opción: 4\n",
            "gracias por usar el programa\n"
          ]
        }
      ]
    },
    {
      "cell_type": "markdown",
      "source": [
        "**Tarea del Lunes 27/10/25**"
      ],
      "metadata": {
        "id": "RfAfR5YnyNUQ"
      }
    },
    {
      "cell_type": "markdown",
      "source": [
        " # Libreria_de_Funciones_Rosa_Silva"
      ],
      "metadata": {
        "id": "awXIjSmXyefy"
      }
    },
    {
      "cell_type": "code",
      "source": [
        "#encontrar la potencia\n",
        "def potencia(base, exponente):\n",
        "  resultado = base ** exponente\n",
        "  return resultado\n",
        "\n",
        "# recoger la base y el exponente\n",
        "base = int(input(\"pon la base: \"))\n",
        "exponente = int(input(\"pon el exponente: \"))\n",
        "resultado_potencia = potencia(base, exponente)\n",
        "# imprime el resultado\n",
        "print(f\"{base} elevado a {exponente} es igual a {resultado_potencia}\")\n"
      ],
      "metadata": {
        "colab": {
          "base_uri": "https://localhost:8080/"
        },
        "id": "yEfGKek93qvB",
        "outputId": "9f338d4a-36ac-49a7-d930-afc54beed6c5"
      },
      "execution_count": null,
      "outputs": [
        {
          "output_type": "stream",
          "name": "stdout",
          "text": [
            "pon la base: 2\n",
            "pon el exponente: 3\n",
            "2 elevado a 3 es igual a 8\n"
          ]
        }
      ]
    },
    {
      "cell_type": "code",
      "source": [
        "#es_primo (numero)\n",
        "def es_primo(numero):\n",
        "    if numero < 2:\n",
        "      return False\n",
        "    for i in range( 2, int(numero ** 0.5) + 1):\n",
        "        if numero % i == 0:\n",
        "           return False\n",
        "    return True\n",
        "\n",
        "numero_usuario = int(input(\"pon un numero:  \"))\n",
        "\n",
        "if es_primo(numero_usuario):\n",
        "    print(f\"{numero_usuario} es primo\")\n",
        "else:\n",
        "      print(f\"{numero_usuario} no es primo\")"
      ],
      "metadata": {
        "colab": {
          "base_uri": "https://localhost:8080/"
        },
        "id": "szTomLdl_I1Y",
        "outputId": "d06db88c-4595-400c-f507-e22f75ef546e"
      },
      "execution_count": null,
      "outputs": [
        {
          "output_type": "stream",
          "name": "stdout",
          "text": [
            "pon un numero:  3\n",
            "3 es primo\n"
          ]
        }
      ]
    },
    {
      "cell_type": "code",
      "source": [
        "#factorial(n)\n",
        "def factorial(n):\n",
        "  if n == 0 or n ==1:\n",
        "    return 1\n",
        "  else:\n",
        "   return n * factorial(n - 1)\n",
        "\n",
        "n = int(input(\"pon un numero: \"))\n",
        "print(f\"el factorial de {n} es {factorial(n)}\")"
      ],
      "metadata": {
        "colab": {
          "base_uri": "https://localhost:8080/"
        },
        "id": "BB8bqdbsB8JZ",
        "outputId": "d2e99e45-a16a-47c7-c546-8103cbc2cb02"
      },
      "execution_count": null,
      "outputs": [
        {
          "output_type": "stream",
          "name": "stdout",
          "text": [
            "pon un numero:2\n",
            "el factorial de 2 es 2\n"
          ]
        }
      ]
    },
    {
      "cell_type": "code",
      "source": [
        "#conversion\n",
        "print(\"Elije la conversión: \")\n",
        "print(\"1: celsius a fahrenheit\")\n",
        "print(\"2: fahrenheit a celsius\")\n",
        "\n",
        "opcion= input(\"pon numero 1 o 2: \")\n",
        "\n",
        "if opcion == \"1\":\n",
        "  celsius = float(input(\"pon la temperatura en celsius:\"))\n",
        "  fahrenheit = (celsius * 9/5) + 32\n",
        "  print(f\"{celsius:.2f} grados C* son {fahrenheit:.2f} grados F*\")\n",
        "\n",
        "elif opcion == \"2\":\n",
        "  fahrenheit = float(input(\"pon la temperatura en fahrenheit: \"))\n",
        "  celsius = (fahrenheit - 32) * 5/9\n",
        "  print(f\"{fahrenheit:.2f} grados F* son {celsius:.2f} grados C*\")\n",
        "\n",
        "else:\n",
        "  print(\"opcion no valida\")\n"
      ],
      "metadata": {
        "colab": {
          "base_uri": "https://localhost:8080/"
        },
        "id": "Wz9XJXu2DyS9",
        "outputId": "9b8f09d8-8a89-45c7-cd7a-e1201d8faeac"
      },
      "execution_count": null,
      "outputs": [
        {
          "output_type": "stream",
          "name": "stdout",
          "text": [
            "Elije la conversión: \n",
            "1: celsius a fahrenheit\n",
            "2: fahrenheit a celsius\n",
            "pon numero 1 o 2: 1\n",
            "pon la temperatura en celsius:65\n",
            "65.00 grados C* son 149.00 grados F*\n"
          ]
        }
      ]
    },
    {
      "cell_type": "code",
      "source": [
        "#libreria cr\n",
        "#funcion 1\n",
        "def area_circulo(radio):                 #El código muestra un menú con tres opciones: Calcula el área de un círculo. Dice si un número es par o impar. Calcula el promedio de varios números.\n",
        "\n",
        "  return 3.1416 * radio * radio\n",
        "\n",
        "#funcion 2\n",
        "def es_par(numero):\n",
        "  return numero % 2 == 0\n",
        "\n",
        "#funcion 3\n",
        "def promedio(lista):\n",
        "  return sum(lista) / len(lista)\n",
        "\n",
        "#menuu\n",
        "print(\"elige una funcion\")\n",
        "print(\"1: area de un circulo\")\n",
        "print(\"2: par o impar\")\n",
        "print(\"3: promedio de una lista\")\n",
        "\n",
        "opcion = input(\"pon una opcion:  \")\n",
        "\n",
        "if opcion == \"1\":\n",
        "  radio = float(input(\"pon el radio: \"))\n",
        "  print(f\"el area del circulo es {area_circulo(radio):.2f}\")\n",
        "elif opcion == \"2\":\n",
        "  numero = int(input(\"pon un numero:\"))\n",
        "  if es_par(numero):\n",
        "    print(f\"{numero} es par\")\n",
        "  else:\n",
        "    print(f\"{numero} es impar\")\n",
        "elif opcion == \"3\":\n",
        "  cantidad = int(input(\"cuantos numeros quieres promediar?: \"))\n",
        "  lista = []\n",
        "  for i in range(cantidad):\n",
        "    numero = float(input(f\"pon el numero {i+1}: \"))\n",
        "    lista.append(numero)\n",
        "  print(f\"el promedio es {promedio(lista):.2f}\")\n",
        "else:\n",
        "  print(\"opcion no valida\")"
      ],
      "metadata": {
        "colab": {
          "base_uri": "https://localhost:8080/"
        },
        "id": "7xt7-7RZIP8L",
        "outputId": "3813fc2b-4cd5-4e55-c0b4-467a7db58445"
      },
      "execution_count": null,
      "outputs": [
        {
          "output_type": "stream",
          "name": "stdout",
          "text": [
            "elige una funcion\n",
            "1: area de un circulo\n",
            "2: par o impar\n",
            "3: promedio de una lista\n",
            "pon una opcion:  1\n",
            "pon el radio: 2\n",
            "el area del circulo es 12.57\n"
          ]
        }
      ]
    },
    {
      "cell_type": "code",
      "source": [
        "pelicula = {\n",
        "    \"Titulo\": \"Orgullo y prejucio\",\n",
        "    \"director\": \"Jane ousten\",\n",
        "    \"año\": 2005,\n",
        "    \"genero\": \"comedia romantica\",\n",
        "    \"calificacion\": 4.5/5,\n",
        "    \"actores_principales\": [\"mr darcy\", \"elizabeth bennet\", \"lydia bennet\"]\n",
        "    }\n",
        "\n",
        "for clave, valor in pelicula.items():\n",
        "  print(f\"{clave}: {valor}\")"
      ],
      "metadata": {
        "colab": {
          "base_uri": "https://localhost:8080/"
        },
        "id": "8iMNKcWh7VKf",
        "outputId": "d3f6e668-6a7f-42bc-a18f-4678f2d2458d"
      },
      "execution_count": 2,
      "outputs": [
        {
          "output_type": "stream",
          "name": "stdout",
          "text": [
            "Titulo: Orgullo y prejucio\n",
            "director: Jane ousten\n",
            "año: 2005\n",
            "genero: comedia romantica\n",
            "calificacion: 0.9\n",
            "actores_principales: ['mr darcy', 'elizabeth bennet', 'lydia bennet']\n"
          ]
        }
      ]
    }
  ],
  "metadata": {
    "colab": {
      "provenance": []
    },
    "kernelspec": {
      "display_name": "Python 3",
      "name": "python3"
    }
  },
  "nbformat": 4,
  "nbformat_minor": 0
}